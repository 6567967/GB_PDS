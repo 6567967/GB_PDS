{
 "cells": [
  {
   "cell_type": "code",
   "execution_count": 1,
   "metadata": {},
   "outputs": [],
   "source": [
    "import numpy as np\n",
    "import pandas as pd\n",
    "from sklearn.model_selection import train_test_split\n",
    "data = pd.read_csv('input/train.csv')\n",
    "data['DistrictId'] = data['DistrictId'].astype(str)"
   ]
  },
  {
   "cell_type": "code",
   "execution_count": 2,
   "metadata": {},
   "outputs": [
    {
     "data": {
      "text/html": [
       "<div>\n",
       "<style scoped>\n",
       "    .dataframe tbody tr th:only-of-type {\n",
       "        vertical-align: middle;\n",
       "    }\n",
       "\n",
       "    .dataframe tbody tr th {\n",
       "        vertical-align: top;\n",
       "    }\n",
       "\n",
       "    .dataframe thead th {\n",
       "        text-align: right;\n",
       "    }\n",
       "</style>\n",
       "<table border=\"1\" class=\"dataframe\">\n",
       "  <thead>\n",
       "    <tr style=\"text-align: right;\">\n",
       "      <th></th>\n",
       "      <th>Id</th>\n",
       "      <th>Rooms</th>\n",
       "      <th>Square</th>\n",
       "      <th>LifeSquare</th>\n",
       "      <th>KitchenSquare</th>\n",
       "      <th>Floor</th>\n",
       "      <th>HouseFloor</th>\n",
       "      <th>HouseYear</th>\n",
       "      <th>Ecology_1</th>\n",
       "      <th>Social_1</th>\n",
       "      <th>Social_2</th>\n",
       "      <th>Social_3</th>\n",
       "      <th>Healthcare_1</th>\n",
       "      <th>Helthcare_2</th>\n",
       "      <th>Shops_1</th>\n",
       "      <th>Price</th>\n",
       "    </tr>\n",
       "  </thead>\n",
       "  <tbody>\n",
       "    <tr>\n",
       "      <th>Id</th>\n",
       "      <td>1.000000</td>\n",
       "      <td>-0.005763</td>\n",
       "      <td>-0.002396</td>\n",
       "      <td>0.018449</td>\n",
       "      <td>0.021099</td>\n",
       "      <td>0.009656</td>\n",
       "      <td>-0.004175</td>\n",
       "      <td>0.005549</td>\n",
       "      <td>0.017094</td>\n",
       "      <td>-0.010703</td>\n",
       "      <td>-0.010945</td>\n",
       "      <td>-0.011621</td>\n",
       "      <td>-0.005733</td>\n",
       "      <td>-0.005550</td>\n",
       "      <td>-0.014028</td>\n",
       "      <td>0.012183</td>\n",
       "    </tr>\n",
       "    <tr>\n",
       "      <th>Rooms</th>\n",
       "      <td>-0.005763</td>\n",
       "      <td>1.000000</td>\n",
       "      <td>0.672815</td>\n",
       "      <td>0.131336</td>\n",
       "      <td>-0.001350</td>\n",
       "      <td>-0.000569</td>\n",
       "      <td>-0.028773</td>\n",
       "      <td>-0.012111</td>\n",
       "      <td>-0.030190</td>\n",
       "      <td>0.049951</td>\n",
       "      <td>0.048683</td>\n",
       "      <td>0.035184</td>\n",
       "      <td>0.030604</td>\n",
       "      <td>0.045743</td>\n",
       "      <td>0.059898</td>\n",
       "      <td>0.544607</td>\n",
       "    </tr>\n",
       "    <tr>\n",
       "      <th>Square</th>\n",
       "      <td>-0.002396</td>\n",
       "      <td>0.672815</td>\n",
       "      <td>1.000000</td>\n",
       "      <td>0.196129</td>\n",
       "      <td>0.019839</td>\n",
       "      <td>0.133996</td>\n",
       "      <td>0.142128</td>\n",
       "      <td>-0.009891</td>\n",
       "      <td>-0.059046</td>\n",
       "      <td>-0.055405</td>\n",
       "      <td>-0.022275</td>\n",
       "      <td>0.061294</td>\n",
       "      <td>-0.036315</td>\n",
       "      <td>-0.012037</td>\n",
       "      <td>0.047408</td>\n",
       "      <td>0.555218</td>\n",
       "    </tr>\n",
       "    <tr>\n",
       "      <th>LifeSquare</th>\n",
       "      <td>0.018449</td>\n",
       "      <td>0.131336</td>\n",
       "      <td>0.196129</td>\n",
       "      <td>1.000000</td>\n",
       "      <td>-0.001195</td>\n",
       "      <td>0.024559</td>\n",
       "      <td>0.027442</td>\n",
       "      <td>-0.002210</td>\n",
       "      <td>-0.023629</td>\n",
       "      <td>-0.048363</td>\n",
       "      <td>-0.039283</td>\n",
       "      <td>0.012763</td>\n",
       "      <td>-0.026867</td>\n",
       "      <td>-0.024762</td>\n",
       "      <td>-0.007569</td>\n",
       "      <td>0.081292</td>\n",
       "    </tr>\n",
       "    <tr>\n",
       "      <th>KitchenSquare</th>\n",
       "      <td>0.021099</td>\n",
       "      <td>-0.001350</td>\n",
       "      <td>0.019839</td>\n",
       "      <td>-0.001195</td>\n",
       "      <td>1.000000</td>\n",
       "      <td>-0.000325</td>\n",
       "      <td>0.002923</td>\n",
       "      <td>0.000501</td>\n",
       "      <td>-0.012355</td>\n",
       "      <td>0.006937</td>\n",
       "      <td>0.006424</td>\n",
       "      <td>-0.012882</td>\n",
       "      <td>-0.004243</td>\n",
       "      <td>0.022006</td>\n",
       "      <td>-0.000816</td>\n",
       "      <td>0.012617</td>\n",
       "    </tr>\n",
       "    <tr>\n",
       "      <th>Floor</th>\n",
       "      <td>0.009656</td>\n",
       "      <td>-0.000569</td>\n",
       "      <td>0.133996</td>\n",
       "      <td>0.024559</td>\n",
       "      <td>-0.000325</td>\n",
       "      <td>1.000000</td>\n",
       "      <td>0.473103</td>\n",
       "      <td>0.001899</td>\n",
       "      <td>-0.020320</td>\n",
       "      <td>-0.012292</td>\n",
       "      <td>0.016095</td>\n",
       "      <td>-0.035956</td>\n",
       "      <td>-0.124697</td>\n",
       "      <td>-0.060151</td>\n",
       "      <td>0.028935</td>\n",
       "      <td>0.147600</td>\n",
       "    </tr>\n",
       "    <tr>\n",
       "      <th>HouseFloor</th>\n",
       "      <td>-0.004175</td>\n",
       "      <td>-0.028773</td>\n",
       "      <td>0.142128</td>\n",
       "      <td>0.027442</td>\n",
       "      <td>0.002923</td>\n",
       "      <td>0.473103</td>\n",
       "      <td>1.000000</td>\n",
       "      <td>-0.000733</td>\n",
       "      <td>-0.019620</td>\n",
       "      <td>-0.004066</td>\n",
       "      <td>0.030658</td>\n",
       "      <td>-0.040381</td>\n",
       "      <td>-0.142837</td>\n",
       "      <td>-0.067960</td>\n",
       "      <td>0.027975</td>\n",
       "      <td>0.140616</td>\n",
       "    </tr>\n",
       "    <tr>\n",
       "      <th>HouseYear</th>\n",
       "      <td>0.005549</td>\n",
       "      <td>-0.012111</td>\n",
       "      <td>-0.009891</td>\n",
       "      <td>-0.002210</td>\n",
       "      <td>0.000501</td>\n",
       "      <td>0.001899</td>\n",
       "      <td>-0.000733</td>\n",
       "      <td>1.000000</td>\n",
       "      <td>0.001291</td>\n",
       "      <td>0.001016</td>\n",
       "      <td>0.000120</td>\n",
       "      <td>0.001551</td>\n",
       "      <td>-0.013326</td>\n",
       "      <td>0.010964</td>\n",
       "      <td>0.003729</td>\n",
       "      <td>0.003639</td>\n",
       "    </tr>\n",
       "    <tr>\n",
       "      <th>Ecology_1</th>\n",
       "      <td>0.017094</td>\n",
       "      <td>-0.030190</td>\n",
       "      <td>-0.059046</td>\n",
       "      <td>-0.023629</td>\n",
       "      <td>-0.012355</td>\n",
       "      <td>-0.020320</td>\n",
       "      <td>-0.019620</td>\n",
       "      <td>0.001291</td>\n",
       "      <td>1.000000</td>\n",
       "      <td>-0.052143</td>\n",
       "      <td>-0.064810</td>\n",
       "      <td>-0.079649</td>\n",
       "      <td>-0.016162</td>\n",
       "      <td>0.015106</td>\n",
       "      <td>-0.072480</td>\n",
       "      <td>-0.073379</td>\n",
       "    </tr>\n",
       "    <tr>\n",
       "      <th>Social_1</th>\n",
       "      <td>-0.010703</td>\n",
       "      <td>0.049951</td>\n",
       "      <td>-0.055405</td>\n",
       "      <td>-0.048363</td>\n",
       "      <td>0.006937</td>\n",
       "      <td>-0.012292</td>\n",
       "      <td>-0.004066</td>\n",
       "      <td>0.001016</td>\n",
       "      <td>-0.052143</td>\n",
       "      <td>1.000000</td>\n",
       "      <td>0.945235</td>\n",
       "      <td>-0.020153</td>\n",
       "      <td>0.014472</td>\n",
       "      <td>0.445211</td>\n",
       "      <td>0.538452</td>\n",
       "      <td>0.179139</td>\n",
       "    </tr>\n",
       "    <tr>\n",
       "      <th>Social_2</th>\n",
       "      <td>-0.010945</td>\n",
       "      <td>0.048683</td>\n",
       "      <td>-0.022275</td>\n",
       "      <td>-0.039283</td>\n",
       "      <td>0.006424</td>\n",
       "      <td>0.016095</td>\n",
       "      <td>0.030658</td>\n",
       "      <td>0.000120</td>\n",
       "      <td>-0.064810</td>\n",
       "      <td>0.945235</td>\n",
       "      <td>1.000000</td>\n",
       "      <td>0.014114</td>\n",
       "      <td>-0.004220</td>\n",
       "      <td>0.384484</td>\n",
       "      <td>0.554291</td>\n",
       "      <td>0.162395</td>\n",
       "    </tr>\n",
       "    <tr>\n",
       "      <th>Social_3</th>\n",
       "      <td>-0.011621</td>\n",
       "      <td>0.035184</td>\n",
       "      <td>0.061294</td>\n",
       "      <td>0.012763</td>\n",
       "      <td>-0.012882</td>\n",
       "      <td>-0.035956</td>\n",
       "      <td>-0.040381</td>\n",
       "      <td>0.001551</td>\n",
       "      <td>-0.079649</td>\n",
       "      <td>-0.020153</td>\n",
       "      <td>0.014114</td>\n",
       "      <td>1.000000</td>\n",
       "      <td>0.172604</td>\n",
       "      <td>0.236887</td>\n",
       "      <td>0.529603</td>\n",
       "      <td>0.140835</td>\n",
       "    </tr>\n",
       "    <tr>\n",
       "      <th>Healthcare_1</th>\n",
       "      <td>-0.005733</td>\n",
       "      <td>0.030604</td>\n",
       "      <td>-0.036315</td>\n",
       "      <td>-0.026867</td>\n",
       "      <td>-0.004243</td>\n",
       "      <td>-0.124697</td>\n",
       "      <td>-0.142837</td>\n",
       "      <td>-0.013326</td>\n",
       "      <td>-0.016162</td>\n",
       "      <td>0.014472</td>\n",
       "      <td>-0.004220</td>\n",
       "      <td>0.172604</td>\n",
       "      <td>1.000000</td>\n",
       "      <td>0.179816</td>\n",
       "      <td>0.040460</td>\n",
       "      <td>0.109215</td>\n",
       "    </tr>\n",
       "    <tr>\n",
       "      <th>Helthcare_2</th>\n",
       "      <td>-0.005550</td>\n",
       "      <td>0.045743</td>\n",
       "      <td>-0.012037</td>\n",
       "      <td>-0.024762</td>\n",
       "      <td>0.022006</td>\n",
       "      <td>-0.060151</td>\n",
       "      <td>-0.067960</td>\n",
       "      <td>0.010964</td>\n",
       "      <td>0.015106</td>\n",
       "      <td>0.445211</td>\n",
       "      <td>0.384484</td>\n",
       "      <td>0.236887</td>\n",
       "      <td>0.179816</td>\n",
       "      <td>1.000000</td>\n",
       "      <td>0.409646</td>\n",
       "      <td>0.195145</td>\n",
       "    </tr>\n",
       "    <tr>\n",
       "      <th>Shops_1</th>\n",
       "      <td>-0.014028</td>\n",
       "      <td>0.059898</td>\n",
       "      <td>0.047408</td>\n",
       "      <td>-0.007569</td>\n",
       "      <td>-0.000816</td>\n",
       "      <td>0.028935</td>\n",
       "      <td>0.027975</td>\n",
       "      <td>0.003729</td>\n",
       "      <td>-0.072480</td>\n",
       "      <td>0.538452</td>\n",
       "      <td>0.554291</td>\n",
       "      <td>0.529603</td>\n",
       "      <td>0.040460</td>\n",
       "      <td>0.409646</td>\n",
       "      <td>1.000000</td>\n",
       "      <td>0.183283</td>\n",
       "    </tr>\n",
       "    <tr>\n",
       "      <th>Price</th>\n",
       "      <td>0.012183</td>\n",
       "      <td>0.544607</td>\n",
       "      <td>0.555218</td>\n",
       "      <td>0.081292</td>\n",
       "      <td>0.012617</td>\n",
       "      <td>0.147600</td>\n",
       "      <td>0.140616</td>\n",
       "      <td>0.003639</td>\n",
       "      <td>-0.073379</td>\n",
       "      <td>0.179139</td>\n",
       "      <td>0.162395</td>\n",
       "      <td>0.140835</td>\n",
       "      <td>0.109215</td>\n",
       "      <td>0.195145</td>\n",
       "      <td>0.183283</td>\n",
       "      <td>1.000000</td>\n",
       "    </tr>\n",
       "  </tbody>\n",
       "</table>\n",
       "</div>"
      ],
      "text/plain": [
       "                     Id     Rooms    Square  LifeSquare  KitchenSquare  \\\n",
       "Id             1.000000 -0.005763 -0.002396    0.018449       0.021099   \n",
       "Rooms         -0.005763  1.000000  0.672815    0.131336      -0.001350   \n",
       "Square        -0.002396  0.672815  1.000000    0.196129       0.019839   \n",
       "LifeSquare     0.018449  0.131336  0.196129    1.000000      -0.001195   \n",
       "KitchenSquare  0.021099 -0.001350  0.019839   -0.001195       1.000000   \n",
       "Floor          0.009656 -0.000569  0.133996    0.024559      -0.000325   \n",
       "HouseFloor    -0.004175 -0.028773  0.142128    0.027442       0.002923   \n",
       "HouseYear      0.005549 -0.012111 -0.009891   -0.002210       0.000501   \n",
       "Ecology_1      0.017094 -0.030190 -0.059046   -0.023629      -0.012355   \n",
       "Social_1      -0.010703  0.049951 -0.055405   -0.048363       0.006937   \n",
       "Social_2      -0.010945  0.048683 -0.022275   -0.039283       0.006424   \n",
       "Social_3      -0.011621  0.035184  0.061294    0.012763      -0.012882   \n",
       "Healthcare_1  -0.005733  0.030604 -0.036315   -0.026867      -0.004243   \n",
       "Helthcare_2   -0.005550  0.045743 -0.012037   -0.024762       0.022006   \n",
       "Shops_1       -0.014028  0.059898  0.047408   -0.007569      -0.000816   \n",
       "Price          0.012183  0.544607  0.555218    0.081292       0.012617   \n",
       "\n",
       "                  Floor  HouseFloor  HouseYear  Ecology_1  Social_1  Social_2  \\\n",
       "Id             0.009656   -0.004175   0.005549   0.017094 -0.010703 -0.010945   \n",
       "Rooms         -0.000569   -0.028773  -0.012111  -0.030190  0.049951  0.048683   \n",
       "Square         0.133996    0.142128  -0.009891  -0.059046 -0.055405 -0.022275   \n",
       "LifeSquare     0.024559    0.027442  -0.002210  -0.023629 -0.048363 -0.039283   \n",
       "KitchenSquare -0.000325    0.002923   0.000501  -0.012355  0.006937  0.006424   \n",
       "Floor          1.000000    0.473103   0.001899  -0.020320 -0.012292  0.016095   \n",
       "HouseFloor     0.473103    1.000000  -0.000733  -0.019620 -0.004066  0.030658   \n",
       "HouseYear      0.001899   -0.000733   1.000000   0.001291  0.001016  0.000120   \n",
       "Ecology_1     -0.020320   -0.019620   0.001291   1.000000 -0.052143 -0.064810   \n",
       "Social_1      -0.012292   -0.004066   0.001016  -0.052143  1.000000  0.945235   \n",
       "Social_2       0.016095    0.030658   0.000120  -0.064810  0.945235  1.000000   \n",
       "Social_3      -0.035956   -0.040381   0.001551  -0.079649 -0.020153  0.014114   \n",
       "Healthcare_1  -0.124697   -0.142837  -0.013326  -0.016162  0.014472 -0.004220   \n",
       "Helthcare_2   -0.060151   -0.067960   0.010964   0.015106  0.445211  0.384484   \n",
       "Shops_1        0.028935    0.027975   0.003729  -0.072480  0.538452  0.554291   \n",
       "Price          0.147600    0.140616   0.003639  -0.073379  0.179139  0.162395   \n",
       "\n",
       "               Social_3  Healthcare_1  Helthcare_2   Shops_1     Price  \n",
       "Id            -0.011621     -0.005733    -0.005550 -0.014028  0.012183  \n",
       "Rooms          0.035184      0.030604     0.045743  0.059898  0.544607  \n",
       "Square         0.061294     -0.036315    -0.012037  0.047408  0.555218  \n",
       "LifeSquare     0.012763     -0.026867    -0.024762 -0.007569  0.081292  \n",
       "KitchenSquare -0.012882     -0.004243     0.022006 -0.000816  0.012617  \n",
       "Floor         -0.035956     -0.124697    -0.060151  0.028935  0.147600  \n",
       "HouseFloor    -0.040381     -0.142837    -0.067960  0.027975  0.140616  \n",
       "HouseYear      0.001551     -0.013326     0.010964  0.003729  0.003639  \n",
       "Ecology_1     -0.079649     -0.016162     0.015106 -0.072480 -0.073379  \n",
       "Social_1      -0.020153      0.014472     0.445211  0.538452  0.179139  \n",
       "Social_2       0.014114     -0.004220     0.384484  0.554291  0.162395  \n",
       "Social_3       1.000000      0.172604     0.236887  0.529603  0.140835  \n",
       "Healthcare_1   0.172604      1.000000     0.179816  0.040460  0.109215  \n",
       "Helthcare_2    0.236887      0.179816     1.000000  0.409646  0.195145  \n",
       "Shops_1        0.529603      0.040460     0.409646  1.000000  0.183283  \n",
       "Price          0.140835      0.109215     0.195145  0.183283  1.000000  "
      ]
     },
     "execution_count": 2,
     "metadata": {},
     "output_type": "execute_result"
    }
   ],
   "source": [
    "ls_ok = data.loc[data['LifeSquare'].notnull(), :]\n",
    "ls_ok.corr()"
   ]
  },
  {
   "cell_type": "code",
   "execution_count": 3,
   "metadata": {},
   "outputs": [
    {
     "data": {
      "text/plain": [
       "RandomForestRegressor(bootstrap=True, criterion='mse', max_depth=12,\n",
       "           max_features='auto', max_leaf_nodes=None,\n",
       "           min_impurity_decrease=0.0, min_impurity_split=None,\n",
       "           min_samples_leaf=1, min_samples_split=2,\n",
       "           min_weight_fraction_leaf=0.0, n_estimators=1000, n_jobs=None,\n",
       "           oob_score=False, random_state=42, verbose=0, warm_start=False)"
      ]
     },
     "execution_count": 3,
     "metadata": {},
     "output_type": "execute_result"
    }
   ],
   "source": [
    "data = data.drop(['LifeSquare', 'Healthcare_1', 'DistrictId'], axis = 1)\n",
    "data = pd.get_dummies(data)\n",
    "train, valid = train_test_split(data, test_size=0.3, random_state=42)\n",
    "from sklearn.ensemble import RandomForestRegressor\n",
    "rfr = RandomForestRegressor(n_estimators=1000, max_depth=12, random_state=42)\n",
    "rfr.fit(train.drop(['Price'], axis=1), train['Price'])"
   ]
  },
  {
   "cell_type": "code",
   "execution_count": 4,
   "metadata": {},
   "outputs": [],
   "source": [
    "pred_train = rfr.predict(train.drop(['Price'], axis=1))\n",
    "pred_valid = rfr.predict(valid.drop(['Price'], axis=1))"
   ]
  },
  {
   "cell_type": "code",
   "execution_count": 5,
   "metadata": {},
   "outputs": [
    {
     "data": {
      "text/plain": [
       "(0.8977427592799629, 882866995.9117438)"
      ]
     },
     "execution_count": 5,
     "metadata": {},
     "output_type": "execute_result"
    }
   ],
   "source": [
    "from sklearn.metrics import r2_score as r2, mean_squared_error as mse\n",
    "r2(train['Price'], pred_train), mse(train['Price'], pred_train)"
   ]
  },
  {
   "cell_type": "code",
   "execution_count": 6,
   "metadata": {},
   "outputs": [
    {
     "data": {
      "text/plain": [
       "(0.7107459537958434, 2488092438.3399405)"
      ]
     },
     "execution_count": 6,
     "metadata": {},
     "output_type": "execute_result"
    }
   ],
   "source": [
    "r2(valid['Price'], pred_valid), mse(valid['Price'], pred_valid)"
   ]
  },
  {
   "cell_type": "code",
   "execution_count": 7,
   "metadata": {},
   "outputs": [
    {
     "data": {
      "text/plain": [
       "array([2.33194014e-02, 7.54216783e-02, 4.28458659e-01, 2.65598100e-02,\n",
       "       2.42818770e-02, 1.92578330e-02, 3.47646215e-02, 5.42807631e-02,\n",
       "       9.96527548e-02, 1.12332608e-01, 7.07244004e-02, 7.34342376e-03,\n",
       "       2.15463468e-02, 2.74121850e-04, 3.69629144e-04, 2.91630971e-04,\n",
       "       3.27447013e-04, 3.96357869e-04, 3.96636376e-04])"
      ]
     },
     "execution_count": 7,
     "metadata": {},
     "output_type": "execute_result"
    }
   ],
   "source": [
    "rfr.feature_importances_"
   ]
  },
  {
   "cell_type": "code",
   "execution_count": 8,
   "metadata": {},
   "outputs": [
    {
     "data": {
      "text/plain": [
       "array(['Floor', 'KitchenSquare', 'HouseYear', 'Ecology_1', 'Social_3',\n",
       "       'Rooms', 'Social_1', 'Social_2', 'Square'], dtype=object)"
      ]
     },
     "execution_count": 8,
     "metadata": {},
     "output_type": "execute_result"
    }
   ],
   "source": [
    "feat_imp = pd.DataFrame({'feature': data.columns.drop('Price'), 'importance':rfr.feature_importances_}).sort_values('importance')\n",
    "feats = feat_imp.tail(9)['feature'].values\n",
    "feats"
   ]
  },
  {
   "cell_type": "code",
   "execution_count": 28,
   "metadata": {},
   "outputs": [],
   "source": [
    "?rfr"
   ]
  },
  {
   "cell_type": "code",
   "execution_count": 10,
   "metadata": {},
   "outputs": [
    {
     "data": {
      "text/plain": [
       "RandomForestRegressor(bootstrap=True, criterion='mse', max_depth=9,\n",
       "           max_features=2, max_leaf_nodes=None, min_impurity_decrease=0.0,\n",
       "           min_impurity_split=None, min_samples_leaf=1,\n",
       "           min_samples_split=2, min_weight_fraction_leaf=0.0,\n",
       "           n_estimators=1000, n_jobs=None, oob_score=False,\n",
       "           random_state=42, verbose=0, warm_start=False)"
      ]
     },
     "execution_count": 10,
     "metadata": {},
     "output_type": "execute_result"
    }
   ],
   "source": [
    "rfr = RandomForestRegressor(n_estimators=1000, max_depth=9, random_state=42, max_features=2)\n",
    "rfr.fit(train[feats], train['Price'])\n"
   ]
  },
  {
   "cell_type": "code",
   "execution_count": 11,
   "metadata": {},
   "outputs": [],
   "source": [
    "pred_train = rfr.predict(train[feats])\n",
    "pred_valid = rfr.predict(valid[feats])"
   ]
  },
  {
   "cell_type": "code",
   "execution_count": 16,
   "metadata": {},
   "outputs": [
    {
     "data": {
      "text/plain": [
       "(0.79649662585878, 1757004309.1408923)"
      ]
     },
     "execution_count": 16,
     "metadata": {},
     "output_type": "execute_result"
    }
   ],
   "source": [
    "r2(train['Price'], pred_train), mse(train['Price'], pred_train)"
   ]
  },
  {
   "cell_type": "code",
   "execution_count": 17,
   "metadata": {},
   "outputs": [
    {
     "data": {
      "text/plain": [
       "(0.6943850561558058, 2628824871.4271517)"
      ]
     },
     "execution_count": 17,
     "metadata": {},
     "output_type": "execute_result"
    }
   ],
   "source": [
    "r2(valid['Price'], pred_valid), mse(valid['Price'], pred_valid)"
   ]
  },
  {
   "cell_type": "code",
   "execution_count": 13,
   "metadata": {},
   "outputs": [],
   "source": [
    "from sklearn.model_selection import GridSearchCV"
   ]
  },
  {
   "cell_type": "code",
   "execution_count": 27,
   "metadata": {},
   "outputs": [
    {
     "name": "stdout",
     "output_type": "stream",
     "text": [
      "Fitting 3 folds for each of 36 candidates, totalling 108 fits\n"
     ]
    },
    {
     "name": "stderr",
     "output_type": "stream",
     "text": [
      "[Parallel(n_jobs=3)]: Using backend LokyBackend with 3 concurrent workers.\n",
      "[Parallel(n_jobs=3)]: Done  44 tasks      | elapsed:  1.4min\n",
      "/home/ifl/anaconda3/lib/python3.7/site-packages/sklearn/externals/joblib/externals/loky/process_executor.py:706: UserWarning: A worker stopped while some jobs were given to the executor. This can be caused by a too short worker timeout or by a memory leak.\n",
      "  \"timeout or by a memory leak.\", UserWarning\n",
      "[Parallel(n_jobs=3)]: Done 108 out of 108 | elapsed:  3.6min finished\n"
     ]
    },
    {
     "data": {
      "text/plain": [
       "GridSearchCV(cv=3, error_score='raise-deprecating',\n",
       "       estimator=RandomForestRegressor(bootstrap=True, criterion='mse', max_depth=None,\n",
       "           max_features='auto', max_leaf_nodes=None,\n",
       "           min_impurity_decrease=0.0, min_impurity_split=None,\n",
       "           min_samples_leaf=1, min_samples_split=2,\n",
       "           min_weight_fraction_leaf=0.0, n_estimators='warn', n_jobs=None,\n",
       "           oob_score=False, random_state=100, verbose=0, warm_start=False),\n",
       "       fit_params=None, iid='warn', n_jobs=3,\n",
       "       param_grid=[{'n_estimators': [900, 1000, 1100], 'max_features': [1, 2, 3, 4], 'max_depth': [18, 19, 20]}],\n",
       "       pre_dispatch='2*n_jobs', refit=True, return_train_score='warn',\n",
       "       scoring='r2', verbose=1)"
      ]
     },
     "execution_count": 27,
     "metadata": {},
     "output_type": "execute_result"
    }
   ],
   "source": [
    "parameters = [{'n_estimators': [900, 1000, 1100],\n",
    "               'max_features': [1, 2, 3, 4], \n",
    "               'max_depth': [18, 19, 20]}]\n",
    "GSCV = GridSearchCV(estimator=RandomForestRegressor(random_state=100), \n",
    "param_grid=parameters,\n",
    "scoring='r2',\n",
    "cv=3, verbose=1, n_jobs=3)\n",
    "GSCV.fit(train[feats], train['Price'])"
   ]
  },
  {
   "cell_type": "code",
   "execution_count": 28,
   "metadata": {},
   "outputs": [
    {
     "data": {
      "text/plain": [
       "{'max_depth': 18, 'max_features': 3, 'n_estimators': 1100}"
      ]
     },
     "execution_count": 28,
     "metadata": {},
     "output_type": "execute_result"
    }
   ],
   "source": [
    "GSCV.best_params_"
   ]
  },
  {
   "cell_type": "code",
   "execution_count": 42,
   "metadata": {},
   "outputs": [
    {
     "data": {
      "text/plain": [
       "dict_keys(['explained_variance', 'r2', 'neg_median_absolute_error', 'neg_mean_absolute_error', 'neg_mean_squared_error', 'neg_mean_squared_log_error', 'accuracy', 'roc_auc', 'balanced_accuracy', 'average_precision', 'neg_log_loss', 'brier_score_loss', 'adjusted_rand_score', 'homogeneity_score', 'completeness_score', 'v_measure_score', 'mutual_info_score', 'adjusted_mutual_info_score', 'normalized_mutual_info_score', 'fowlkes_mallows_score', 'precision', 'precision_macro', 'precision_micro', 'precision_samples', 'precision_weighted', 'recall', 'recall_macro', 'recall_micro', 'recall_samples', 'recall_weighted', 'f1', 'f1_macro', 'f1_micro', 'f1_samples', 'f1_weighted'])"
      ]
     },
     "execution_count": 42,
     "metadata": {},
     "output_type": "execute_result"
    }
   ],
   "source": [
    "import sklearn\n",
    "sklearn.metrics.SCORERS.keys()"
   ]
  },
  {
   "cell_type": "code",
   "execution_count": 22,
   "metadata": {},
   "outputs": [
    {
     "data": {
      "text/plain": [
       "{'max_depth': 19, 'max_features': 2, 'n_estimators': 1000}"
      ]
     },
     "execution_count": 22,
     "metadata": {},
     "output_type": "execute_result"
    }
   ],
   "source": [
    "GSCV.best_params_"
   ]
  },
  {
   "cell_type": "code",
   "execution_count": 29,
   "metadata": {},
   "outputs": [
    {
     "data": {
      "text/plain": [
       "0.9558702821124442"
      ]
     },
     "execution_count": 29,
     "metadata": {},
     "output_type": "execute_result"
    }
   ],
   "source": [
    "y_pred_proba = GSCV.predict(train[feats])\n",
    "r2(train['Price'], y_pred_proba)"
   ]
  },
  {
   "cell_type": "code",
   "execution_count": 30,
   "metadata": {},
   "outputs": [
    {
     "data": {
      "text/plain": [
       "0.7278921628823121"
      ]
     },
     "execution_count": 30,
     "metadata": {},
     "output_type": "execute_result"
    }
   ],
   "source": [
    "y_pred_proba = GSCV.predict(valid[feats])\n",
    "r2(valid['Price'], y_pred_proba)"
   ]
  },
  {
   "cell_type": "code",
   "execution_count": null,
   "metadata": {},
   "outputs": [],
   "source": []
  }
 ],
 "metadata": {
  "kernelspec": {
   "display_name": "Python 3",
   "language": "python",
   "name": "python3"
  },
  "language_info": {
   "codemirror_mode": {
    "name": "ipython",
    "version": 3
   },
   "file_extension": ".py",
   "mimetype": "text/x-python",
   "name": "python",
   "nbconvert_exporter": "python",
   "pygments_lexer": "ipython3",
   "version": "3.7.1"
  }
 },
 "nbformat": 4,
 "nbformat_minor": 2
}
